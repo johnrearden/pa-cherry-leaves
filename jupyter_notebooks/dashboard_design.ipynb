{
 "cells": [
  {
   "cell_type": "markdown",
   "metadata": {},
   "source": [
    "# Dashboard Design document"
   ]
  },
  {
   "cell_type": "markdown",
   "metadata": {},
   "source": [
    "### Page 1 : Quick Project Summary"
   ]
  },
  {
   "cell_type": "markdown",
   "metadata": {},
   "source": [
    "- General Information\n",
    "    - The cherry plantation crop from Farmy & Foods is facing a challenge where their cherry plantations have been presenting powdery mildew. Currently, the process is manual verification if a given cherry tree contains powdery mildew. An employee spends around 30 minutes in each tree, taking a few samples of tree leaves and verifying visually if the leaf tree is healthy or has powdery mildew. If there is powdery mildew, the employee applies a specific compound to kill the fungus. The time spent applying this compound is 1 minute. The company has thousands of cherry trees located on multiple farms across the country. As a result, this manual process is not scalable due to the time spent in the manual process inspection.\n",
    "- Project Dataset\n",
    "    - The available dataset contains 4208 labelled images of cherry leaves, divided evenly (2104 each) between healthy leaves and leaves affected by mildew.\n",
    "- Business Requirements\n",
    "    - The client is interested in conducting a study to visually differentiate a cherry leaf that is healthy from one that contains powdery mildew.\n",
    "    - The client is interested in predicting if a cherry leaf is healthy or contains powdery mildew."
   ]
  },
  {
   "cell_type": "markdown",
   "metadata": {},
   "source": [
    "### Page 2 : Data Visualization"
   ]
  },
  {
   "cell_type": "markdown",
   "metadata": {},
   "source": [
    "- Answers business requirement 1\n",
    "    - Checkbox 1 - Difference between average and variability image\n",
    "    - Checkbox 2 - Differences between average healthy and mildewed cells\n",
    "    - Checkbox 3 - Image Montage\n"
   ]
  },
  {
   "cell_type": "markdown",
   "metadata": {},
   "source": [
    "### Page 3 : Prediction Tool"
   ]
  },
  {
   "cell_type": "markdown",
   "metadata": {},
   "source": [
    "- Answers business requirement 2\n",
    "    - Create a user interface with a file uploader widget, which can accept multiple image of cherry leaves.\n",
    "    - Generate a table with the image name and prediction results\n",
    "    - Download button to download results table"
   ]
  },
  {
   "cell_type": "markdown",
   "metadata": {},
   "source": [
    "### Page 4 : ML Prediction Metrics"
   ]
  },
  {
   "cell_type": "markdown",
   "metadata": {},
   "source": [
    "- Presents metrics for the binary classification task\n",
    "    - Label frequencies for Train, Validation and Test sets\n",
    "    - Model history - accuracy and losses\n",
    "    - Model evaluation result\n",
    "        - Confusion matrix\n",
    "    "
   ]
  }
 ],
 "metadata": {
  "kernelspec": {
   "display_name": "Python 3",
   "language": "python",
   "name": "python3"
  },
  "language_info": {
   "name": "python",
   "version": "3.8.18"
  }
 },
 "nbformat": 4,
 "nbformat_minor": 2
}
